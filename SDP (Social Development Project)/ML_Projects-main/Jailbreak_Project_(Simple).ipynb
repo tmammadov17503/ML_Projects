{
  "nbformat": 4,
  "nbformat_minor": 0,
  "metadata": {
    "colab": {
      "provenance": []
    },
    "kernelspec": {
      "name": "python3",
      "display_name": "Python 3"
    },
    "language_info": {
      "name": "python"
    }
  },
  "cells": [
    {
      "cell_type": "markdown",
      "source": [
        "Setup"
      ],
      "metadata": {
        "id": "sqbHIWz-pD96"
      }
    },
    {
      "cell_type": "code",
      "execution_count": null,
      "metadata": {
        "colab": {
          "base_uri": "https://localhost:8080/"
        },
        "id": "kLDUj_6no3GZ",
        "outputId": "92b4d49b-07be-44ea-926c-01ad4ce79f78"
      },
      "outputs": [
        {
          "output_type": "stream",
          "name": "stdout",
          "text": [
            "Requirement already satisfied: transformers in /usr/local/lib/python3.11/dist-packages (4.51.3)\n",
            "Requirement already satisfied: accelerate in /usr/local/lib/python3.11/dist-packages (1.6.0)\n",
            "Requirement already satisfied: filelock in /usr/local/lib/python3.11/dist-packages (from transformers) (3.18.0)\n",
            "Requirement already satisfied: huggingface-hub<1.0,>=0.30.0 in /usr/local/lib/python3.11/dist-packages (from transformers) (0.31.2)\n",
            "Requirement already satisfied: numpy>=1.17 in /usr/local/lib/python3.11/dist-packages (from transformers) (2.0.2)\n",
            "Requirement already satisfied: packaging>=20.0 in /usr/local/lib/python3.11/dist-packages (from transformers) (24.2)\n",
            "Requirement already satisfied: pyyaml>=5.1 in /usr/local/lib/python3.11/dist-packages (from transformers) (6.0.2)\n",
            "Requirement already satisfied: regex!=2019.12.17 in /usr/local/lib/python3.11/dist-packages (from transformers) (2024.11.6)\n",
            "Requirement already satisfied: requests in /usr/local/lib/python3.11/dist-packages (from transformers) (2.32.3)\n",
            "Requirement already satisfied: tokenizers<0.22,>=0.21 in /usr/local/lib/python3.11/dist-packages (from transformers) (0.21.1)\n",
            "Requirement already satisfied: safetensors>=0.4.3 in /usr/local/lib/python3.11/dist-packages (from transformers) (0.5.3)\n",
            "Requirement already satisfied: tqdm>=4.27 in /usr/local/lib/python3.11/dist-packages (from transformers) (4.67.1)\n",
            "Requirement already satisfied: psutil in /usr/local/lib/python3.11/dist-packages (from accelerate) (5.9.5)\n",
            "Requirement already satisfied: torch>=2.0.0 in /usr/local/lib/python3.11/dist-packages (from accelerate) (2.6.0+cu124)\n",
            "Requirement already satisfied: fsspec>=2023.5.0 in /usr/local/lib/python3.11/dist-packages (from huggingface-hub<1.0,>=0.30.0->transformers) (2025.3.2)\n",
            "Requirement already satisfied: typing-extensions>=3.7.4.3 in /usr/local/lib/python3.11/dist-packages (from huggingface-hub<1.0,>=0.30.0->transformers) (4.13.2)\n",
            "Requirement already satisfied: networkx in /usr/local/lib/python3.11/dist-packages (from torch>=2.0.0->accelerate) (3.4.2)\n",
            "Requirement already satisfied: jinja2 in /usr/local/lib/python3.11/dist-packages (from torch>=2.0.0->accelerate) (3.1.6)\n",
            "Requirement already satisfied: nvidia-cuda-nvrtc-cu12==12.4.127 in /usr/local/lib/python3.11/dist-packages (from torch>=2.0.0->accelerate) (12.4.127)\n",
            "Requirement already satisfied: nvidia-cuda-runtime-cu12==12.4.127 in /usr/local/lib/python3.11/dist-packages (from torch>=2.0.0->accelerate) (12.4.127)\n",
            "Requirement already satisfied: nvidia-cuda-cupti-cu12==12.4.127 in /usr/local/lib/python3.11/dist-packages (from torch>=2.0.0->accelerate) (12.4.127)\n",
            "Requirement already satisfied: nvidia-cudnn-cu12==9.1.0.70 in /usr/local/lib/python3.11/dist-packages (from torch>=2.0.0->accelerate) (9.1.0.70)\n",
            "Requirement already satisfied: nvidia-cublas-cu12==12.4.5.8 in /usr/local/lib/python3.11/dist-packages (from torch>=2.0.0->accelerate) (12.4.5.8)\n",
            "Requirement already satisfied: nvidia-cufft-cu12==11.2.1.3 in /usr/local/lib/python3.11/dist-packages (from torch>=2.0.0->accelerate) (11.2.1.3)\n",
            "Requirement already satisfied: nvidia-curand-cu12==10.3.5.147 in /usr/local/lib/python3.11/dist-packages (from torch>=2.0.0->accelerate) (10.3.5.147)\n",
            "Requirement already satisfied: nvidia-cusolver-cu12==11.6.1.9 in /usr/local/lib/python3.11/dist-packages (from torch>=2.0.0->accelerate) (11.6.1.9)\n",
            "Requirement already satisfied: nvidia-cusparse-cu12==12.3.1.170 in /usr/local/lib/python3.11/dist-packages (from torch>=2.0.0->accelerate) (12.3.1.170)\n",
            "Requirement already satisfied: nvidia-cusparselt-cu12==0.6.2 in /usr/local/lib/python3.11/dist-packages (from torch>=2.0.0->accelerate) (0.6.2)\n",
            "Requirement already satisfied: nvidia-nccl-cu12==2.21.5 in /usr/local/lib/python3.11/dist-packages (from torch>=2.0.0->accelerate) (2.21.5)\n",
            "Requirement already satisfied: nvidia-nvtx-cu12==12.4.127 in /usr/local/lib/python3.11/dist-packages (from torch>=2.0.0->accelerate) (12.4.127)\n",
            "Requirement already satisfied: nvidia-nvjitlink-cu12==12.4.127 in /usr/local/lib/python3.11/dist-packages (from torch>=2.0.0->accelerate) (12.4.127)\n",
            "Requirement already satisfied: triton==3.2.0 in /usr/local/lib/python3.11/dist-packages (from torch>=2.0.0->accelerate) (3.2.0)\n",
            "Requirement already satisfied: sympy==1.13.1 in /usr/local/lib/python3.11/dist-packages (from torch>=2.0.0->accelerate) (1.13.1)\n",
            "Requirement already satisfied: mpmath<1.4,>=1.1.0 in /usr/local/lib/python3.11/dist-packages (from sympy==1.13.1->torch>=2.0.0->accelerate) (1.3.0)\n",
            "Requirement already satisfied: charset-normalizer<4,>=2 in /usr/local/lib/python3.11/dist-packages (from requests->transformers) (3.4.2)\n",
            "Requirement already satisfied: idna<4,>=2.5 in /usr/local/lib/python3.11/dist-packages (from requests->transformers) (3.10)\n",
            "Requirement already satisfied: urllib3<3,>=1.21.1 in /usr/local/lib/python3.11/dist-packages (from requests->transformers) (2.4.0)\n",
            "Requirement already satisfied: certifi>=2017.4.17 in /usr/local/lib/python3.11/dist-packages (from requests->transformers) (2025.4.26)\n",
            "Requirement already satisfied: MarkupSafe>=2.0 in /usr/local/lib/python3.11/dist-packages (from jinja2->torch>=2.0.0->accelerate) (3.0.2)\n"
          ]
        }
      ],
      "source": [
        "!pip install transformers accelerate"
      ]
    },
    {
      "cell_type": "code",
      "source": [
        "from transformers import pipeline\n",
        "\n",
        "# For the hate speech / toxicity classifier\n",
        "classifier = pipeline(\"text-classification\", model=\"facebook/roberta-hate-speech-dynabench-r4-target\")\n",
        "\n",
        "# Rewriting LLM (FLAN-T5)\n",
        "rewriter = pipeline(\"text2text-generation\", model=\"google/flan-t5-small\")"
      ],
      "metadata": {
        "colab": {
          "base_uri": "https://localhost:8080/"
        },
        "id": "FS8hbcUXpAsg",
        "outputId": "67128191-1858-4d67-eec7-0836010f188e"
      },
      "execution_count": null,
      "outputs": [
        {
          "output_type": "stream",
          "name": "stderr",
          "text": [
            "Device set to use cpu\n",
            "Device set to use cpu\n"
          ]
        }
      ]
    },
    {
      "cell_type": "markdown",
      "source": [
        "Uploading the file"
      ],
      "metadata": {
        "id": "NOkz3hbw3-f8"
      }
    },
    {
      "cell_type": "code",
      "source": [
        "from google.colab import files\n",
        "uploaded = files.upload()"
      ],
      "metadata": {
        "colab": {
          "base_uri": "https://localhost:8080/",
          "height": 38
        },
        "id": "u61iU5zg2zQ2",
        "outputId": "73dfa380-c387-4ef3-80e8-dbde61faf94b"
      },
      "execution_count": null,
      "outputs": [
        {
          "output_type": "display_data",
          "data": {
            "text/plain": [
              "<IPython.core.display.HTML object>"
            ],
            "text/html": [
              "\n",
              "     <input type=\"file\" id=\"files-504651b8-c47e-4df2-8fee-1e61d708b5c7\" name=\"files[]\" multiple disabled\n",
              "        style=\"border:none\" />\n",
              "     <output id=\"result-504651b8-c47e-4df2-8fee-1e61d708b5c7\">\n",
              "      Upload widget is only available when the cell has been executed in the\n",
              "      current browser session. Please rerun this cell to enable.\n",
              "      </output>\n",
              "      <script>// Copyright 2017 Google LLC\n",
              "//\n",
              "// Licensed under the Apache License, Version 2.0 (the \"License\");\n",
              "// you may not use this file except in compliance with the License.\n",
              "// You may obtain a copy of the License at\n",
              "//\n",
              "//      http://www.apache.org/licenses/LICENSE-2.0\n",
              "//\n",
              "// Unless required by applicable law or agreed to in writing, software\n",
              "// distributed under the License is distributed on an \"AS IS\" BASIS,\n",
              "// WITHOUT WARRANTIES OR CONDITIONS OF ANY KIND, either express or implied.\n",
              "// See the License for the specific language governing permissions and\n",
              "// limitations under the License.\n",
              "\n",
              "/**\n",
              " * @fileoverview Helpers for google.colab Python module.\n",
              " */\n",
              "(function(scope) {\n",
              "function span(text, styleAttributes = {}) {\n",
              "  const element = document.createElement('span');\n",
              "  element.textContent = text;\n",
              "  for (const key of Object.keys(styleAttributes)) {\n",
              "    element.style[key] = styleAttributes[key];\n",
              "  }\n",
              "  return element;\n",
              "}\n",
              "\n",
              "// Max number of bytes which will be uploaded at a time.\n",
              "const MAX_PAYLOAD_SIZE = 100 * 1024;\n",
              "\n",
              "function _uploadFiles(inputId, outputId) {\n",
              "  const steps = uploadFilesStep(inputId, outputId);\n",
              "  const outputElement = document.getElementById(outputId);\n",
              "  // Cache steps on the outputElement to make it available for the next call\n",
              "  // to uploadFilesContinue from Python.\n",
              "  outputElement.steps = steps;\n",
              "\n",
              "  return _uploadFilesContinue(outputId);\n",
              "}\n",
              "\n",
              "// This is roughly an async generator (not supported in the browser yet),\n",
              "// where there are multiple asynchronous steps and the Python side is going\n",
              "// to poll for completion of each step.\n",
              "// This uses a Promise to block the python side on completion of each step,\n",
              "// then passes the result of the previous step as the input to the next step.\n",
              "function _uploadFilesContinue(outputId) {\n",
              "  const outputElement = document.getElementById(outputId);\n",
              "  const steps = outputElement.steps;\n",
              "\n",
              "  const next = steps.next(outputElement.lastPromiseValue);\n",
              "  return Promise.resolve(next.value.promise).then((value) => {\n",
              "    // Cache the last promise value to make it available to the next\n",
              "    // step of the generator.\n",
              "    outputElement.lastPromiseValue = value;\n",
              "    return next.value.response;\n",
              "  });\n",
              "}\n",
              "\n",
              "/**\n",
              " * Generator function which is called between each async step of the upload\n",
              " * process.\n",
              " * @param {string} inputId Element ID of the input file picker element.\n",
              " * @param {string} outputId Element ID of the output display.\n",
              " * @return {!Iterable<!Object>} Iterable of next steps.\n",
              " */\n",
              "function* uploadFilesStep(inputId, outputId) {\n",
              "  const inputElement = document.getElementById(inputId);\n",
              "  inputElement.disabled = false;\n",
              "\n",
              "  const outputElement = document.getElementById(outputId);\n",
              "  outputElement.innerHTML = '';\n",
              "\n",
              "  const pickedPromise = new Promise((resolve) => {\n",
              "    inputElement.addEventListener('change', (e) => {\n",
              "      resolve(e.target.files);\n",
              "    });\n",
              "  });\n",
              "\n",
              "  const cancel = document.createElement('button');\n",
              "  inputElement.parentElement.appendChild(cancel);\n",
              "  cancel.textContent = 'Cancel upload';\n",
              "  const cancelPromise = new Promise((resolve) => {\n",
              "    cancel.onclick = () => {\n",
              "      resolve(null);\n",
              "    };\n",
              "  });\n",
              "\n",
              "  // Wait for the user to pick the files.\n",
              "  const files = yield {\n",
              "    promise: Promise.race([pickedPromise, cancelPromise]),\n",
              "    response: {\n",
              "      action: 'starting',\n",
              "    }\n",
              "  };\n",
              "\n",
              "  cancel.remove();\n",
              "\n",
              "  // Disable the input element since further picks are not allowed.\n",
              "  inputElement.disabled = true;\n",
              "\n",
              "  if (!files) {\n",
              "    return {\n",
              "      response: {\n",
              "        action: 'complete',\n",
              "      }\n",
              "    };\n",
              "  }\n",
              "\n",
              "  for (const file of files) {\n",
              "    const li = document.createElement('li');\n",
              "    li.append(span(file.name, {fontWeight: 'bold'}));\n",
              "    li.append(span(\n",
              "        `(${file.type || 'n/a'}) - ${file.size} bytes, ` +\n",
              "        `last modified: ${\n",
              "            file.lastModifiedDate ? file.lastModifiedDate.toLocaleDateString() :\n",
              "                                    'n/a'} - `));\n",
              "    const percent = span('0% done');\n",
              "    li.appendChild(percent);\n",
              "\n",
              "    outputElement.appendChild(li);\n",
              "\n",
              "    const fileDataPromise = new Promise((resolve) => {\n",
              "      const reader = new FileReader();\n",
              "      reader.onload = (e) => {\n",
              "        resolve(e.target.result);\n",
              "      };\n",
              "      reader.readAsArrayBuffer(file);\n",
              "    });\n",
              "    // Wait for the data to be ready.\n",
              "    let fileData = yield {\n",
              "      promise: fileDataPromise,\n",
              "      response: {\n",
              "        action: 'continue',\n",
              "      }\n",
              "    };\n",
              "\n",
              "    // Use a chunked sending to avoid message size limits. See b/62115660.\n",
              "    let position = 0;\n",
              "    do {\n",
              "      const length = Math.min(fileData.byteLength - position, MAX_PAYLOAD_SIZE);\n",
              "      const chunk = new Uint8Array(fileData, position, length);\n",
              "      position += length;\n",
              "\n",
              "      const base64 = btoa(String.fromCharCode.apply(null, chunk));\n",
              "      yield {\n",
              "        response: {\n",
              "          action: 'append',\n",
              "          file: file.name,\n",
              "          data: base64,\n",
              "        },\n",
              "      };\n",
              "\n",
              "      let percentDone = fileData.byteLength === 0 ?\n",
              "          100 :\n",
              "          Math.round((position / fileData.byteLength) * 100);\n",
              "      percent.textContent = `${percentDone}% done`;\n",
              "\n",
              "    } while (position < fileData.byteLength);\n",
              "  }\n",
              "\n",
              "  // All done.\n",
              "  yield {\n",
              "    response: {\n",
              "      action: 'complete',\n",
              "    }\n",
              "  };\n",
              "}\n",
              "\n",
              "scope.google = scope.google || {};\n",
              "scope.google.colab = scope.google.colab || {};\n",
              "scope.google.colab._files = {\n",
              "  _uploadFiles,\n",
              "  _uploadFilesContinue,\n",
              "};\n",
              "})(self);\n",
              "</script> "
            ]
          },
          "metadata": {}
        }
      ]
    },
    {
      "cell_type": "markdown",
      "source": [
        "Dataset"
      ],
      "metadata": {
        "id": "H6asre2IzJiv"
      }
    },
    {
      "cell_type": "code",
      "source": [
        "import pandas as pd\n",
        "\n",
        "df = pd.read_json(\"prompts.jsonl\", lines=True) # I have loaded the JSONL file into pandas\n",
        "\n",
        "df[\"prompt_text\"] = df[\"prompt\"].apply(lambda x: x[\"text\"]) # and here I just extract the prompt text\n",
        "\n",
        "# Now I filter it based on risky words\n",
        "harmful_keywords = [\n",
        "    # Weapons\n",
        "    \"make a bomb\", \"build a bomb\", \"homemade bomb\", \"molotov\", \"explosives\", \"pipe bomb\", \"improvised explosive\",\n",
        "    \"how to get a gun\", \"buy illegal gun\", \"3d printed gun\", \"automatic weapon\", \"ghost gun\",\n",
        "\n",
        "    # Hacking\n",
        "    \"how to hack\", \"hack wifi\", \"crack password\", \"ddos attack\", \"bypass firewall\", \"keylogger\", \"rat malware\", \"steal credentials\",\n",
        "\n",
        "    # Drugs\n",
        "    \"sell weed\", \"grow weed\", \"buy weed\", \"how to sell drugs\", \"how to make meth\", \"buy cocaine\", \"sell cocaine\", \"drug dealing\", \"buy ecstasy\",\n",
        "    \"how to make lsd\", \"dark web drugs\",\n",
        "\n",
        "    # Fraud & Scams\n",
        "    \"fake passport\", \"steal credit card\", \"buy cvv\", \"identity theft\", \"create fake id\", \"phishing attack\", \"steal car\"\n",
        "\n",
        "    # Abuse\n",
        "    \"child abuse\", \"grooming minor\", \"abuse underage\", \"hurt children\", \"how to kidnap\",\n",
        "\n",
        "    # Terrorism / violence\n",
        "    \"how to join isis\", \"terrorist group\", \"kill someone\", \"assassinate\", \"school attack\", \"mass shooting\", \"how to murder\",\n",
        "\n",
        "    # Other dark prompts\n",
        "    \"deep web links\", \"red room\", \"snuff film\", \"make a virus\", \"make a bioweapon\"\n",
        "]\n",
        "\n",
        "df[\"is_harmful\"] = df[\"prompt_text\"].apply(lambda text: any(k in text.lower() for k in harmful_keywords)) # Checks whether any of the phrases in harmful_keywords list are present in the prompt.\n",
        "# If at least one keyword matches, it returns True (harmful), otherwise False.\n",
        "\n",
        "# Here I just get the filtered prompts\n",
        "harmful_prompts = df[df[\"is_harmful\"]][\"prompt_text\"].tolist() # we only choose the harmful part from the code\n",
        "\n",
        "# I save the file to banned_keywords_from_realtoxicity.txt\n",
        "with open(\"banned_keywords_from_realtoxicity.txt\", \"w\", encoding=\"utf-8\") as f:\n",
        "    for prompt in harmful_prompts:\n",
        "        f.write(prompt.strip() + \"\\n\")"
      ],
      "metadata": {
        "id": "DyEp4qifzInc"
      },
      "execution_count": null,
      "outputs": []
    },
    {
      "cell_type": "code",
      "source": [
        "def load_banned_keywords(file_path=\"banned_keywords_from_realtoxicity.txt\"):\n",
        "    with open(file_path, \"r\", encoding=\"utf-8\") as f:\n",
        "        return [line.strip().lower() for line in f if line.strip()]\n",
        "\n",
        "banned_keywords = load_banned_keywords() # I have uploaded this all into the python list for a better reading"
      ],
      "metadata": {
        "id": "LaGmLiizzYwO"
      },
      "execution_count": null,
      "outputs": []
    },
    {
      "cell_type": "markdown",
      "source": [
        "The main jaibreak function"
      ],
      "metadata": {
        "id": "Bqo61t4P4U_Z"
      }
    },
    {
      "cell_type": "code",
      "source": [
        "def is_jailbreak(prompt):\n",
        "    prompt = prompt.lower()\n",
        "\n",
        "    if any(phrase in prompt for phrase in harmful_keywords): # here we match any harmful phrase inside the prompt\n",
        "        return True\n",
        "\n",
        "    if any(prompt in banned for banned in banned_keywords): # and same here just we check if the whole prompt matches known toxic samples\n",
        "        return True\n",
        "\n",
        "    result = classifier(prompt, truncation=True)[0] # clasiffier pipeline\n",
        "    return result[\"label\"].lower() in [\"hateful\", \"offensive\", \"violence\"]"
      ],
      "metadata": {
        "id": "S5BLQ5Nw4Sd9"
      },
      "execution_count": null,
      "outputs": []
    },
    {
      "cell_type": "markdown",
      "source": [
        "THIS ONE TO USE"
      ],
      "metadata": {
        "id": "pmTv1LSLB3Sw"
      }
    },
    {
      "cell_type": "code",
      "source": [
        "def is_jailbreak(prompt):\n",
        "    prompt = prompt.lower()\n",
        "\n",
        "    if any(kw in prompt for kw in harmful_keywords): # here we match any harmful phrase inside the prompt\n",
        "        return True\n",
        "\n",
        "    if any(prompt in banned for banned in banned_keywords): # and same here just we check if the whole prompt matches known toxic samples\n",
        "        return True\n",
        "\n",
        "    result = classifier(prompt, truncation=True)[0] # clasiffier pipeline\n",
        "    return result[\"label\"].lower() in [\"hateful\", \"offensive\", \"violence\"]\n",
        "\n",
        "def rewrite_prompt(prompt):\n",
        "    instruction = f\"Rewrite this prompt to be safe and educational:\\n{prompt}\"\n",
        "    response = rewriter(instruction, max_length=100, do_sample=False)\n",
        "    return response[0][\"generated_text\"]"
      ],
      "metadata": {
        "id": "276pVQP5zbNQ"
      },
      "execution_count": null,
      "outputs": []
    },
    {
      "cell_type": "markdown",
      "source": [
        "Lets try new method"
      ],
      "metadata": {
        "id": "SwYo6YxFtiiW"
      }
    },
    {
      "cell_type": "code",
      "source": [
        "def is_jailbreak(prompt):\n",
        "    prompt = prompt.lower()\n",
        "\n",
        "    banned_keywords = [\n",
        "        \"make a bomb\", \"how to make a bomb\", \"molotov\", \"firebomb\",\n",
        "        \"how to hack\", \"hack wifi\", \"disable firewall\", \"keylogger\",\n",
        "        \"sell weed\", \"grow weed\", \"buy weed\", \"buy cocaine\", \"sell cocaine\",\n",
        "        \"drug trafficking\", \"child abuse\", \"how to make a gun\", \"explosives\"\n",
        "    ]\n",
        "\n",
        "    if any(kw in prompt for kw in banned_keywords):\n",
        "        return True\n",
        "\n",
        "    result = classifier(prompt, truncation=True)[0]\n",
        "    return result[\"label\"].lower() in [\"hateful\", \"offensive\", \"violence\"]"
      ],
      "metadata": {
        "id": "aKrDaEr6tlGj"
      },
      "execution_count": null,
      "outputs": []
    },
    {
      "cell_type": "markdown",
      "source": [
        "Now the model"
      ],
      "metadata": {
        "id": "AO1YgJ_qqhQs"
      }
    },
    {
      "cell_type": "code",
      "source": [
        "def rewrite_prompt(prompt):\n",
        "    system_instruction = f\"Rewrite this prompt to be safe and educational:\\n{prompt}\"\n",
        "    response = rewriter(system_instruction, max_length=100, do_sample=False)\n",
        "    return response[0][\"generated_text\"]"
      ],
      "metadata": {
        "id": "OqQfS33Xqibs"
      },
      "execution_count": null,
      "outputs": []
    },
    {
      "cell_type": "markdown",
      "source": [
        "Testing"
      ],
      "metadata": {
        "id": "uh6DabGQqw4n"
      }
    },
    {
      "cell_type": "code",
      "source": [
        "user_prompt = \"How to hack wifi?\"\n",
        "\n",
        "print(\"📝 Original Prompt:\")\n",
        "print(user_prompt)\n",
        "\n",
        "if is_jailbreak(user_prompt):\n",
        "    print(\"\\n🚨 Jailbreak Detected!\")\n",
        "    rewritten = rewrite_prompt(user_prompt)\n",
        "    print(\"\\n✅ Rewritten Prompt and Answer:\")\n",
        "    print(rewritten)\n",
        "else:\n",
        "    print(\"\\n✅ No Jailbreak Detected. Prompt is safe.\")"
      ],
      "metadata": {
        "colab": {
          "base_uri": "https://localhost:8080/"
        },
        "id": "ZkEbpmN8qwDm",
        "outputId": "eec50eb0-a6c7-46be-e1cf-f1a65883e687"
      },
      "execution_count": 170,
      "outputs": [
        {
          "output_type": "stream",
          "name": "stdout",
          "text": [
            "📝 Original Prompt:\n",
            "How to hack wifi?\n",
            "\n",
            "🚨 Jailbreak Detected!\n",
            "\n",
            "✅ Rewritten Prompt and Answer:\n",
            "If you have a wifi connection, you can use the wifi router to connect to your phone.\n"
          ]
        }
      ]
    }
  ]
}